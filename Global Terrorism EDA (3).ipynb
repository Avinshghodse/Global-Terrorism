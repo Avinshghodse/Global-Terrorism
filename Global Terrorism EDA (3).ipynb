{
 "cells": [
  {
   "cell_type": "code",
   "execution_count": 1,
   "id": "7ff67aee",
   "metadata": {},
   "outputs": [
    {
     "name": "stdout",
     "output_type": "stream",
     "text": [
      "Collecting git+https://github.com/getamu/githubcommit.git\n",
      "  Cloning https://github.com/getamu/githubcommit.git to c:\\users\\ghods\\appdata\\local\\temp\\pip-req-build-1ry0d849\n",
      "  Resolved https://github.com/getamu/githubcommit.git to commit 145283422a3a474e99547acb345e91472b8db6b4\n"
     ]
    },
    {
     "name": "stderr",
     "output_type": "stream",
     "text": [
      "  Running command git clone -q https://github.com/getamu/githubcommit.git 'C:\\Users\\ghods\\AppData\\Local\\Temp\\pip-req-build-1ry0d849'\n",
      "ERROR: File \"setup.py\" not found for legacy project git+https://github.com/getamu/githubcommit.git.\n"
     ]
    }
   ],
   "source": [
    "!pip install git+https://github.com/getamu/githubcommit.git"
   ]
  },
  {
   "cell_type": "markdown",
   "id": "239b20bd",
   "metadata": {},
   "source": [
    "# Global Terrorism EDA"
   ]
  },
  {
   "attachments": {
    "download.png": {
     "image/png": "[encoded data removed]"
    }
   },
   "cell_type": "markdown",
   "id": "8fbad731",
   "metadata": {},
   "source": [
    "![download.png](attachment:download.png)"
   ]
  },
  {
   "cell_type": "markdown",
   "id": "815a2c5a",
   "metadata": {},
   "source": [
    "**By Avinash Ghodse**"
   ]
  },
  {
   "cell_type": "markdown",
   "id": "17573b7f",
   "metadata": {},
   "source": [
    "* As a security/defenece analyst, try to find out the hot zone of terrorism.\n",
    "* What all security issues and insights you can derive by Exploratory Data     Analysis?"
   ]
  },
  {
   "cell_type": "markdown",
   "id": "5ed67635",
   "metadata": {},
   "source": [
    "# Objective:\n",
    "\n",
    "* Perform \"Exploratory Data Analysis\" on dataset \"Global Terrorism\"\n",
    "\n",
    "* As a Security/Defence Analyst, Try to find out the hot zone of terrorism.\n",
    "\n",
    "* What all security issues and insights you can derive by EDA?"
   ]
  },
  {
   "cell_type": "markdown",
   "id": "1629e6af",
   "metadata": {},
   "source": [
    "# Import libraries"
   ]
  },
  {
   "cell_type": "code",
   "execution_count": 2,
   "id": "993ad510",
   "metadata": {},
   "outputs": [],
   "source": [
    "# lets imports some required libraries\n",
    "import math \n",
    "import warnings\n",
    "import pandas as pd\n",
    "import numpy as np\n",
    "import matplotlib.pyplot as plt\n",
    "import seaborn as sns\n",
    "import plotly.offline as py\n",
    "import plotly.graph_objs as go\n",
    "warnings.filterwarnings('ignore')"
   ]
  },
  {
   "cell_type": "markdown",
   "id": "2125a5f5",
   "metadata": {},
   "source": [
    "# Import Dataset"
   ]
  },
  {
   "cell_type": "code",
   "execution_count": 3,
   "id": "79d71806",
   "metadata": {},
   "outputs": [
    {
     "data": {
      "text/html": [
       "<div>\n",
       "<style scoped>\n",
       "    .dataframe tbody tr th:only-of-type {\n",
       "        vertical-align: middle;\n",
       "    }\n",
       "\n",
       "    .dataframe tbody tr th {\n",
       "        vertical-align: top;\n",
       "    }\n",
       "\n",
       "    .dataframe thead th {\n",
       "        text-align: right;\n",
       "    }\n",
       "</style>\n",
       "<table border=\"1\" class=\"dataframe\">\n",
       "  <thead>\n",
       "    <tr style=\"text-align: right;\">\n",
       "      <th></th>\n",
       "      <th>eventid</th>\n",
       "      <th>iyear</th>\n",
       "      <th>imonth</th>\n",
       "      <th>iday</th>\n",
       "      <th>approxdate</th>\n",
       "      <th>extended</th>\n",
       "      <th>resolution</th>\n",
       "      <th>country</th>\n",
       "      <th>country_txt</th>\n",
       "      <th>region</th>\n",
       "      <th>...</th>\n",
       "      <th>addnotes</th>\n",
       "      <th>scite1</th>\n",
       "      <th>scite2</th>\n",
       "      <th>scite3</th>\n",
       "      <th>dbsource</th>\n",
       "      <th>INT_LOG</th>\n",
       "      <th>INT_IDEO</th>\n",
       "      <th>INT_MISC</th>\n",
       "      <th>INT_ANY</th>\n",
       "      <th>related</th>\n",
       "    </tr>\n",
       "  </thead>\n",
       "  <tbody>\n",
       "    <tr>\n",
       "      <th>0</th>\n",
       "      <td>197000000001</td>\n",
       "      <td>1970</td>\n",
       "      <td>7</td>\n",
       "      <td>2</td>\n",
       "      <td>NaN</td>\n",
       "      <td>0</td>\n",
       "      <td>NaN</td>\n",
       "      <td>58</td>\n",
       "      <td>Dominican Republic</td>\n",
       "      <td>2</td>\n",
       "      <td>...</td>\n",
       "      <td>NaN</td>\n",
       "      <td>NaN</td>\n",
       "      <td>NaN</td>\n",
       "      <td>NaN</td>\n",
       "      <td>PGIS</td>\n",
       "      <td>0</td>\n",
       "      <td>0</td>\n",
       "      <td>0</td>\n",
       "      <td>0</td>\n",
       "      <td>NaN</td>\n",
       "    </tr>\n",
       "    <tr>\n",
       "      <th>1</th>\n",
       "      <td>197000000002</td>\n",
       "      <td>1970</td>\n",
       "      <td>0</td>\n",
       "      <td>0</td>\n",
       "      <td>NaN</td>\n",
       "      <td>0</td>\n",
       "      <td>NaN</td>\n",
       "      <td>130</td>\n",
       "      <td>Mexico</td>\n",
       "      <td>1</td>\n",
       "      <td>...</td>\n",
       "      <td>NaN</td>\n",
       "      <td>NaN</td>\n",
       "      <td>NaN</td>\n",
       "      <td>NaN</td>\n",
       "      <td>PGIS</td>\n",
       "      <td>0</td>\n",
       "      <td>1</td>\n",
       "      <td>1</td>\n",
       "      <td>1</td>\n",
       "      <td>NaN</td>\n",
       "    </tr>\n",
       "    <tr>\n",
       "      <th>2</th>\n",
       "      <td>197001000001</td>\n",
       "      <td>1970</td>\n",
       "      <td>1</td>\n",
       "      <td>0</td>\n",
       "      <td>NaN</td>\n",
       "      <td>0</td>\n",
       "      <td>NaN</td>\n",
       "      <td>160</td>\n",
       "      <td>Philippines</td>\n",
       "      <td>5</td>\n",
       "      <td>...</td>\n",
       "      <td>NaN</td>\n",
       "      <td>NaN</td>\n",
       "      <td>NaN</td>\n",
       "      <td>NaN</td>\n",
       "      <td>PGIS</td>\n",
       "      <td>-9</td>\n",
       "      <td>-9</td>\n",
       "      <td>1</td>\n",
       "      <td>1</td>\n",
       "      <td>NaN</td>\n",
       "    </tr>\n",
       "    <tr>\n",
       "      <th>3</th>\n",
       "      <td>197001000002</td>\n",
       "      <td>1970</td>\n",
       "      <td>1</td>\n",
       "      <td>0</td>\n",
       "      <td>NaN</td>\n",
       "      <td>0</td>\n",
       "      <td>NaN</td>\n",
       "      <td>78</td>\n",
       "      <td>Greece</td>\n",
       "      <td>8</td>\n",
       "      <td>...</td>\n",
       "      <td>NaN</td>\n",
       "      <td>NaN</td>\n",
       "      <td>NaN</td>\n",
       "      <td>NaN</td>\n",
       "      <td>PGIS</td>\n",
       "      <td>-9</td>\n",
       "      <td>-9</td>\n",
       "      <td>1</td>\n",
       "      <td>1</td>\n",
       "      <td>NaN</td>\n",
       "    </tr>\n",
       "    <tr>\n",
       "      <th>4</th>\n",
       "      <td>197001000003</td>\n",
       "      <td>1970</td>\n",
       "      <td>1</td>\n",
       "      <td>0</td>\n",
       "      <td>NaN</td>\n",
       "      <td>0</td>\n",
       "      <td>NaN</td>\n",
       "      <td>101</td>\n",
       "      <td>Japan</td>\n",
       "      <td>4</td>\n",
       "      <td>...</td>\n",
       "      <td>NaN</td>\n",
       "      <td>NaN</td>\n",
       "      <td>NaN</td>\n",
       "      <td>NaN</td>\n",
       "      <td>PGIS</td>\n",
       "      <td>-9</td>\n",
       "      <td>-9</td>\n",
       "      <td>1</td>\n",
       "      <td>1</td>\n",
       "      <td>NaN</td>\n",
       "    </tr>\n",
       "  </tbody>\n",
       "</table>\n",
       "<p>5 rows × 135 columns</p>\n",
       "</div>"
      ],
      "text/plain": [
       "        eventid  iyear  imonth  iday approxdate  extended resolution  country  \\\n",
       "0  197000000001   1970       7     2        NaN         0        NaN       58   \n",
       "1  197000000002   1970       0     0        NaN         0        NaN      130   \n",
       "2  197001000001   1970       1     0        NaN         0        NaN      160   \n",
       "3  197001000002   1970       1     0        NaN         0        NaN       78   \n",
       "4  197001000003   1970       1     0        NaN         0        NaN      101   \n",
       "\n",
       "          country_txt  region  ... addnotes scite1 scite2  scite3  dbsource  \\\n",
       "0  Dominican Republic       2  ...      NaN    NaN    NaN     NaN      PGIS   \n",
       "1              Mexico       1  ...      NaN    NaN    NaN     NaN      PGIS   \n",
       "2         Philippines       5  ...      NaN    NaN    NaN     NaN      PGIS   \n",
       "3              Greece       8  ...      NaN    NaN    NaN     NaN      PGIS   \n",
       "4               Japan       4  ...      NaN    NaN    NaN     NaN      PGIS   \n",
       "\n",
       "   INT_LOG  INT_IDEO INT_MISC INT_ANY  related  \n",
       "0        0         0        0       0      NaN  \n",
       "1        0         1        1       1      NaN  \n",
       "2       -9        -9        1       1      NaN  \n",
       "3       -9        -9        1       1      NaN  \n",
       "4       -9        -9        1       1      NaN  \n",
       "\n",
       "[5 rows x 135 columns]"
      ]
     },
     "execution_count": 3,
     "metadata": {},
     "output_type": "execute_result"
    }
   ],
   "source": [
    "terror_df = pd.read_csv('global_terrorism_data.csv', encoding='ISO-8859-1')\n",
    "terror_df.head()"
   ]
  },
  {
   "cell_type": "code",
   "execution_count": 4,
   "id": "93eec79b",
   "metadata": {
    "scrolled": true
   },
   "outputs": [
    {
     "data": {
      "text/plain": [
       "(181691, 135)"
      ]
     },
     "execution_count": 4,
     "metadata": {},
     "output_type": "execute_result"
    }
   ],
   "source": [
    "# Check the size of our dataset\n",
    "terror_df.shape"
   ]
  },
  {
   "cell_type": "code",
   "execution_count": 5,
   "id": "d61b6a1a",
   "metadata": {},
   "outputs": [
    {
     "data": {
      "text/plain": [
       "Index(['eventid', 'iyear', 'imonth', 'iday', 'approxdate', 'extended',\n",
       "       'resolution', 'country', 'country_txt', 'region',\n",
       "       ...\n",
       "       'addnotes', 'scite1', 'scite2', 'scite3', 'dbsource', 'INT_LOG',\n",
       "       'INT_IDEO', 'INT_MISC', 'INT_ANY', 'related'],\n",
       "      dtype='object', length=135)"
      ]
     },
     "execution_count": 5,
     "metadata": {},
     "output_type": "execute_result"
    }
   ],
   "source": [
    "# Check the no of columns\n",
    "terror_df.columns"
   ]
  },
  {
   "cell_type": "code",
   "execution_count": 6,
   "id": "d4165d4d",
   "metadata": {},
   "outputs": [
    {
     "name": "stdout",
     "output_type": "stream",
     "text": [
      "There are Total 135 columns in the dataset\n"
     ]
    }
   ],
   "source": [
    "# Lets find unique columns\n",
    "no_of_columns = terror_df.columns.nunique()\n",
    "print(\"There are Total %d columns in the dataset\"%no_of_columns)"
   ]
  },
  {
   "cell_type": "markdown",
   "id": "21400548",
   "metadata": {},
   "source": [
    "# Data Cleaning"
   ]
  },
  {
   "cell_type": "code",
   "execution_count": 7,
   "id": "0aedd8ca",
   "metadata": {},
   "outputs": [],
   "source": [
    "# Lets update the some column names which are going to use for analysis.\n",
    "#Rename columns\n",
    "\n",
    "terror_df = terror_df.rename(columns={'iyear':'Year','imonth':'Month','iday':'day','country_txt':'Country_name','region_txt':'Region','provstate':'State','city':'City','attacktype1_txt':'Attack_type','targtype1_txt':'Target_type','targsubtype1_txt':'Target_subtype','gname':'Gang_name','weaptype1_txt':'Weapon_type','nkill':'No_of_kills'})"
   ]
  },
  {
   "cell_type": "code",
   "execution_count": 8,
   "id": "bd41dab4",
   "metadata": {},
   "outputs": [
    {
     "data": {
      "text/html": [
       "<div>\n",
       "<style scoped>\n",
       "    .dataframe tbody tr th:only-of-type {\n",
       "        vertical-align: middle;\n",
       "    }\n",
       "\n",
       "    .dataframe tbody tr th {\n",
       "        vertical-align: top;\n",
       "    }\n",
       "\n",
       "    .dataframe thead th {\n",
       "        text-align: right;\n",
       "    }\n",
       "</style>\n",
       "<table border=\"1\" class=\"dataframe\">\n",
       "  <thead>\n",
       "    <tr style=\"text-align: right;\">\n",
       "      <th></th>\n",
       "      <th>eventid</th>\n",
       "      <th>Year</th>\n",
       "      <th>Month</th>\n",
       "      <th>day</th>\n",
       "      <th>approxdate</th>\n",
       "      <th>extended</th>\n",
       "      <th>resolution</th>\n",
       "      <th>country</th>\n",
       "      <th>Country_name</th>\n",
       "      <th>region</th>\n",
       "      <th>...</th>\n",
       "      <th>addnotes</th>\n",
       "      <th>scite1</th>\n",
       "      <th>scite2</th>\n",
       "      <th>scite3</th>\n",
       "      <th>dbsource</th>\n",
       "      <th>INT_LOG</th>\n",
       "      <th>INT_IDEO</th>\n",
       "      <th>INT_MISC</th>\n",
       "      <th>INT_ANY</th>\n",
       "      <th>related</th>\n",
       "    </tr>\n",
       "  </thead>\n",
       "  <tbody>\n",
       "    <tr>\n",
       "      <th>0</th>\n",
       "      <td>197000000001</td>\n",
       "      <td>1970</td>\n",
       "      <td>7</td>\n",
       "      <td>2</td>\n",
       "      <td>NaN</td>\n",
       "      <td>0</td>\n",
       "      <td>NaN</td>\n",
       "      <td>58</td>\n",
       "      <td>Dominican Republic</td>\n",
       "      <td>2</td>\n",
       "      <td>...</td>\n",
       "      <td>NaN</td>\n",
       "      <td>NaN</td>\n",
       "      <td>NaN</td>\n",
       "      <td>NaN</td>\n",
       "      <td>PGIS</td>\n",
       "      <td>0</td>\n",
       "      <td>0</td>\n",
       "      <td>0</td>\n",
       "      <td>0</td>\n",
       "      <td>NaN</td>\n",
       "    </tr>\n",
       "    <tr>\n",
       "      <th>1</th>\n",
       "      <td>197000000002</td>\n",
       "      <td>1970</td>\n",
       "      <td>0</td>\n",
       "      <td>0</td>\n",
       "      <td>NaN</td>\n",
       "      <td>0</td>\n",
       "      <td>NaN</td>\n",
       "      <td>130</td>\n",
       "      <td>Mexico</td>\n",
       "      <td>1</td>\n",
       "      <td>...</td>\n",
       "      <td>NaN</td>\n",
       "      <td>NaN</td>\n",
       "      <td>NaN</td>\n",
       "      <td>NaN</td>\n",
       "      <td>PGIS</td>\n",
       "      <td>0</td>\n",
       "      <td>1</td>\n",
       "      <td>1</td>\n",
       "      <td>1</td>\n",
       "      <td>NaN</td>\n",
       "    </tr>\n",
       "    <tr>\n",
       "      <th>2</th>\n",
       "      <td>197001000001</td>\n",
       "      <td>1970</td>\n",
       "      <td>1</td>\n",
       "      <td>0</td>\n",
       "      <td>NaN</td>\n",
       "      <td>0</td>\n",
       "      <td>NaN</td>\n",
       "      <td>160</td>\n",
       "      <td>Philippines</td>\n",
       "      <td>5</td>\n",
       "      <td>...</td>\n",
       "      <td>NaN</td>\n",
       "      <td>NaN</td>\n",
       "      <td>NaN</td>\n",
       "      <td>NaN</td>\n",
       "      <td>PGIS</td>\n",
       "      <td>-9</td>\n",
       "      <td>-9</td>\n",
       "      <td>1</td>\n",
       "      <td>1</td>\n",
       "      <td>NaN</td>\n",
       "    </tr>\n",
       "    <tr>\n",
       "      <th>3</th>\n",
       "      <td>197001000002</td>\n",
       "      <td>1970</td>\n",
       "      <td>1</td>\n",
       "      <td>0</td>\n",
       "      <td>NaN</td>\n",
       "      <td>0</td>\n",
       "      <td>NaN</td>\n",
       "      <td>78</td>\n",
       "      <td>Greece</td>\n",
       "      <td>8</td>\n",
       "      <td>...</td>\n",
       "      <td>NaN</td>\n",
       "      <td>NaN</td>\n",
       "      <td>NaN</td>\n",
       "      <td>NaN</td>\n",
       "      <td>PGIS</td>\n",
       "      <td>-9</td>\n",
       "      <td>-9</td>\n",
       "      <td>1</td>\n",
       "      <td>1</td>\n",
       "      <td>NaN</td>\n",
       "    </tr>\n",
       "    <tr>\n",
       "      <th>4</th>\n",
       "      <td>197001000003</td>\n",
       "      <td>1970</td>\n",
       "      <td>1</td>\n",
       "      <td>0</td>\n",
       "      <td>NaN</td>\n",
       "      <td>0</td>\n",
       "      <td>NaN</td>\n",
       "      <td>101</td>\n",
       "      <td>Japan</td>\n",
       "      <td>4</td>\n",
       "      <td>...</td>\n",
       "      <td>NaN</td>\n",
       "      <td>NaN</td>\n",
       "      <td>NaN</td>\n",
       "      <td>NaN</td>\n",
       "      <td>PGIS</td>\n",
       "      <td>-9</td>\n",
       "      <td>-9</td>\n",
       "      <td>1</td>\n",
       "      <td>1</td>\n",
       "      <td>NaN</td>\n",
       "    </tr>\n",
       "  </tbody>\n",
       "</table>\n",
       "<p>5 rows × 135 columns</p>\n",
       "</div>"
      ],
      "text/plain": [
       "        eventid  Year  Month  day approxdate  extended resolution  country  \\\n",
       "0  197000000001  1970      7    2        NaN         0        NaN       58   \n",
       "1  197000000002  1970      0    0        NaN         0        NaN      130   \n",
       "2  197001000001  1970      1    0        NaN         0        NaN      160   \n",
       "3  197001000002  1970      1    0        NaN         0        NaN       78   \n",
       "4  197001000003  1970      1    0        NaN         0        NaN      101   \n",
       "\n",
       "         Country_name  region  ... addnotes scite1 scite2  scite3  dbsource  \\\n",
       "0  Dominican Republic       2  ...      NaN    NaN    NaN     NaN      PGIS   \n",
       "1              Mexico       1  ...      NaN    NaN    NaN     NaN      PGIS   \n",
       "2         Philippines       5  ...      NaN    NaN    NaN     NaN      PGIS   \n",
       "3              Greece       8  ...      NaN    NaN    NaN     NaN      PGIS   \n",
       "4               Japan       4  ...      NaN    NaN    NaN     NaN      PGIS   \n",
       "\n",
       "   INT_LOG  INT_IDEO INT_MISC INT_ANY  related  \n",
       "0        0         0        0       0      NaN  \n",
       "1        0         1        1       1      NaN  \n",
       "2       -9        -9        1       1      NaN  \n",
       "3       -9        -9        1       1      NaN  \n",
       "4       -9        -9        1       1      NaN  \n",
       "\n",
       "[5 rows x 135 columns]"
      ]
     },
     "execution_count": 8,
     "metadata": {},
     "output_type": "execute_result"
    }
   ],
   "source": [
    "terror_df.head()"
   ]
  },
  {
   "cell_type": "code",
   "execution_count": 9,
   "id": "9f791dc0",
   "metadata": {},
   "outputs": [],
   "source": [
    "# Now we'll take only required columns for analysis\n",
    "terror_df=terror_df[['Year','Month','day','Country_name','State','Region','City','multiple','success','suicide','Attack_type','Target_type','Target_subtype','Gang_name','Weapon_type','No_of_kills']]"
   ]
  },
  {
   "cell_type": "code",
   "execution_count": 10,
   "id": "aa8f3310",
   "metadata": {},
   "outputs": [
    {
     "data": {
      "text/html": [
       "<div>\n",
       "<style scoped>\n",
       "    .dataframe tbody tr th:only-of-type {\n",
       "        vertical-align: middle;\n",
       "    }\n",
       "\n",
       "    .dataframe tbody tr th {\n",
       "        vertical-align: top;\n",
       "    }\n",
       "\n",
       "    .dataframe thead th {\n",
       "        text-align: right;\n",
       "    }\n",
       "</style>\n",
       "<table border=\"1\" class=\"dataframe\">\n",
       "  <thead>\n",
       "    <tr style=\"text-align: right;\">\n",
       "      <th></th>\n",
       "      <th>Year</th>\n",
       "      <th>Month</th>\n",
       "      <th>day</th>\n",
       "      <th>Country_name</th>\n",
       "      <th>State</th>\n",
       "      <th>Region</th>\n",
       "      <th>City</th>\n",
       "      <th>multiple</th>\n",
       "      <th>success</th>\n",
       "      <th>suicide</th>\n",
       "      <th>Attack_type</th>\n",
       "      <th>Target_type</th>\n",
       "      <th>Target_subtype</th>\n",
       "      <th>Gang_name</th>\n",
       "      <th>Weapon_type</th>\n",
       "      <th>No_of_kills</th>\n",
       "    </tr>\n",
       "  </thead>\n",
       "  <tbody>\n",
       "    <tr>\n",
       "      <th>0</th>\n",
       "      <td>1970</td>\n",
       "      <td>7</td>\n",
       "      <td>2</td>\n",
       "      <td>Dominican Republic</td>\n",
       "      <td>NaN</td>\n",
       "      <td>Central America &amp; Caribbean</td>\n",
       "      <td>Santo Domingo</td>\n",
       "      <td>0.0</td>\n",
       "      <td>1</td>\n",
       "      <td>0</td>\n",
       "      <td>Assassination</td>\n",
       "      <td>Private Citizens &amp; Property</td>\n",
       "      <td>Named Civilian</td>\n",
       "      <td>MANO-D</td>\n",
       "      <td>Unknown</td>\n",
       "      <td>1.0</td>\n",
       "    </tr>\n",
       "    <tr>\n",
       "      <th>1</th>\n",
       "      <td>1970</td>\n",
       "      <td>0</td>\n",
       "      <td>0</td>\n",
       "      <td>Mexico</td>\n",
       "      <td>Federal</td>\n",
       "      <td>North America</td>\n",
       "      <td>Mexico city</td>\n",
       "      <td>0.0</td>\n",
       "      <td>1</td>\n",
       "      <td>0</td>\n",
       "      <td>Hostage Taking (Kidnapping)</td>\n",
       "      <td>Government (Diplomatic)</td>\n",
       "      <td>Diplomatic Personnel (outside of embassy, cons...</td>\n",
       "      <td>23rd of September Communist League</td>\n",
       "      <td>Unknown</td>\n",
       "      <td>0.0</td>\n",
       "    </tr>\n",
       "    <tr>\n",
       "      <th>2</th>\n",
       "      <td>1970</td>\n",
       "      <td>1</td>\n",
       "      <td>0</td>\n",
       "      <td>Philippines</td>\n",
       "      <td>Tarlac</td>\n",
       "      <td>Southeast Asia</td>\n",
       "      <td>Unknown</td>\n",
       "      <td>0.0</td>\n",
       "      <td>1</td>\n",
       "      <td>0</td>\n",
       "      <td>Assassination</td>\n",
       "      <td>Journalists &amp; Media</td>\n",
       "      <td>Radio Journalist/Staff/Facility</td>\n",
       "      <td>Unknown</td>\n",
       "      <td>Unknown</td>\n",
       "      <td>1.0</td>\n",
       "    </tr>\n",
       "    <tr>\n",
       "      <th>3</th>\n",
       "      <td>1970</td>\n",
       "      <td>1</td>\n",
       "      <td>0</td>\n",
       "      <td>Greece</td>\n",
       "      <td>Attica</td>\n",
       "      <td>Western Europe</td>\n",
       "      <td>Athens</td>\n",
       "      <td>0.0</td>\n",
       "      <td>1</td>\n",
       "      <td>0</td>\n",
       "      <td>Bombing/Explosion</td>\n",
       "      <td>Government (Diplomatic)</td>\n",
       "      <td>Embassy/Consulate</td>\n",
       "      <td>Unknown</td>\n",
       "      <td>Explosives</td>\n",
       "      <td>NaN</td>\n",
       "    </tr>\n",
       "    <tr>\n",
       "      <th>4</th>\n",
       "      <td>1970</td>\n",
       "      <td>1</td>\n",
       "      <td>0</td>\n",
       "      <td>Japan</td>\n",
       "      <td>Fukouka</td>\n",
       "      <td>East Asia</td>\n",
       "      <td>Fukouka</td>\n",
       "      <td>0.0</td>\n",
       "      <td>1</td>\n",
       "      <td>0</td>\n",
       "      <td>Facility/Infrastructure Attack</td>\n",
       "      <td>Government (Diplomatic)</td>\n",
       "      <td>Embassy/Consulate</td>\n",
       "      <td>Unknown</td>\n",
       "      <td>Incendiary</td>\n",
       "      <td>NaN</td>\n",
       "    </tr>\n",
       "    <tr>\n",
       "      <th>...</th>\n",
       "      <td>...</td>\n",
       "      <td>...</td>\n",
       "      <td>...</td>\n",
       "      <td>...</td>\n",
       "      <td>...</td>\n",
       "      <td>...</td>\n",
       "      <td>...</td>\n",
       "      <td>...</td>\n",
       "      <td>...</td>\n",
       "      <td>...</td>\n",
       "      <td>...</td>\n",
       "      <td>...</td>\n",
       "      <td>...</td>\n",
       "      <td>...</td>\n",
       "      <td>...</td>\n",
       "      <td>...</td>\n",
       "    </tr>\n",
       "    <tr>\n",
       "      <th>181686</th>\n",
       "      <td>2017</td>\n",
       "      <td>12</td>\n",
       "      <td>31</td>\n",
       "      <td>Somalia</td>\n",
       "      <td>Middle Shebelle</td>\n",
       "      <td>Sub-Saharan Africa</td>\n",
       "      <td>Ceelka Geelow</td>\n",
       "      <td>0.0</td>\n",
       "      <td>1</td>\n",
       "      <td>0</td>\n",
       "      <td>Armed Assault</td>\n",
       "      <td>Military</td>\n",
       "      <td>Military Checkpoint</td>\n",
       "      <td>Al-Shabaab</td>\n",
       "      <td>Firearms</td>\n",
       "      <td>1.0</td>\n",
       "    </tr>\n",
       "    <tr>\n",
       "      <th>181687</th>\n",
       "      <td>2017</td>\n",
       "      <td>12</td>\n",
       "      <td>31</td>\n",
       "      <td>Syria</td>\n",
       "      <td>Lattakia</td>\n",
       "      <td>Middle East &amp; North Africa</td>\n",
       "      <td>Jableh</td>\n",
       "      <td>0.0</td>\n",
       "      <td>1</td>\n",
       "      <td>0</td>\n",
       "      <td>Bombing/Explosion</td>\n",
       "      <td>Military</td>\n",
       "      <td>Military Barracks/Base/Headquarters/Checkpost</td>\n",
       "      <td>Muslim extremists</td>\n",
       "      <td>Explosives</td>\n",
       "      <td>2.0</td>\n",
       "    </tr>\n",
       "    <tr>\n",
       "      <th>181688</th>\n",
       "      <td>2017</td>\n",
       "      <td>12</td>\n",
       "      <td>31</td>\n",
       "      <td>Philippines</td>\n",
       "      <td>Maguindanao</td>\n",
       "      <td>Southeast Asia</td>\n",
       "      <td>Kubentog</td>\n",
       "      <td>0.0</td>\n",
       "      <td>1</td>\n",
       "      <td>0</td>\n",
       "      <td>Facility/Infrastructure Attack</td>\n",
       "      <td>Private Citizens &amp; Property</td>\n",
       "      <td>House/Apartment/Residence</td>\n",
       "      <td>Bangsamoro Islamic Freedom Movement (BIFM)</td>\n",
       "      <td>Incendiary</td>\n",
       "      <td>0.0</td>\n",
       "    </tr>\n",
       "    <tr>\n",
       "      <th>181689</th>\n",
       "      <td>2017</td>\n",
       "      <td>12</td>\n",
       "      <td>31</td>\n",
       "      <td>India</td>\n",
       "      <td>Manipur</td>\n",
       "      <td>South Asia</td>\n",
       "      <td>Imphal</td>\n",
       "      <td>0.0</td>\n",
       "      <td>0</td>\n",
       "      <td>0</td>\n",
       "      <td>Bombing/Explosion</td>\n",
       "      <td>Government (General)</td>\n",
       "      <td>Government Building/Facility/Office</td>\n",
       "      <td>Unknown</td>\n",
       "      <td>Explosives</td>\n",
       "      <td>0.0</td>\n",
       "    </tr>\n",
       "    <tr>\n",
       "      <th>181690</th>\n",
       "      <td>2017</td>\n",
       "      <td>12</td>\n",
       "      <td>31</td>\n",
       "      <td>Philippines</td>\n",
       "      <td>Maguindanao</td>\n",
       "      <td>Southeast Asia</td>\n",
       "      <td>Cotabato City</td>\n",
       "      <td>0.0</td>\n",
       "      <td>0</td>\n",
       "      <td>0</td>\n",
       "      <td>Bombing/Explosion</td>\n",
       "      <td>Unknown</td>\n",
       "      <td>NaN</td>\n",
       "      <td>Unknown</td>\n",
       "      <td>Explosives</td>\n",
       "      <td>0.0</td>\n",
       "    </tr>\n",
       "  </tbody>\n",
       "</table>\n",
       "<p>181691 rows × 16 columns</p>\n",
       "</div>"
      ],
      "text/plain": [
       "        Year  Month  day        Country_name            State  \\\n",
       "0       1970      7    2  Dominican Republic              NaN   \n",
       "1       1970      0    0              Mexico          Federal   \n",
       "2       1970      1    0         Philippines           Tarlac   \n",
       "3       1970      1    0              Greece           Attica   \n",
       "4       1970      1    0               Japan          Fukouka   \n",
       "...      ...    ...  ...                 ...              ...   \n",
       "181686  2017     12   31             Somalia  Middle Shebelle   \n",
       "181687  2017     12   31               Syria         Lattakia   \n",
       "181688  2017     12   31         Philippines      Maguindanao   \n",
       "181689  2017     12   31               India          Manipur   \n",
       "181690  2017     12   31         Philippines      Maguindanao   \n",
       "\n",
       "                             Region           City  multiple  success  \\\n",
       "0       Central America & Caribbean  Santo Domingo       0.0        1   \n",
       "1                     North America    Mexico city       0.0        1   \n",
       "2                    Southeast Asia        Unknown       0.0        1   \n",
       "3                    Western Europe         Athens       0.0        1   \n",
       "4                         East Asia        Fukouka       0.0        1   \n",
       "...                             ...            ...       ...      ...   \n",
       "181686           Sub-Saharan Africa  Ceelka Geelow       0.0        1   \n",
       "181687   Middle East & North Africa         Jableh       0.0        1   \n",
       "181688               Southeast Asia       Kubentog       0.0        1   \n",
       "181689                   South Asia         Imphal       0.0        0   \n",
       "181690               Southeast Asia  Cotabato City       0.0        0   \n",
       "\n",
       "        suicide                     Attack_type                  Target_type  \\\n",
       "0             0                   Assassination  Private Citizens & Property   \n",
       "1             0     Hostage Taking (Kidnapping)      Government (Diplomatic)   \n",
       "2             0                   Assassination          Journalists & Media   \n",
       "3             0               Bombing/Explosion      Government (Diplomatic)   \n",
       "4             0  Facility/Infrastructure Attack      Government (Diplomatic)   \n",
       "...         ...                             ...                          ...   \n",
       "181686        0                   Armed Assault                     Military   \n",
       "181687        0               Bombing/Explosion                     Military   \n",
       "181688        0  Facility/Infrastructure Attack  Private Citizens & Property   \n",
       "181689        0               Bombing/Explosion         Government (General)   \n",
       "181690        0               Bombing/Explosion                      Unknown   \n",
       "\n",
       "                                           Target_subtype  \\\n",
       "0                                          Named Civilian   \n",
       "1       Diplomatic Personnel (outside of embassy, cons...   \n",
       "2                         Radio Journalist/Staff/Facility   \n",
       "3                                       Embassy/Consulate   \n",
       "4                                       Embassy/Consulate   \n",
       "...                                                   ...   \n",
       "181686                                Military Checkpoint   \n",
       "181687      Military Barracks/Base/Headquarters/Checkpost   \n",
       "181688                          House/Apartment/Residence   \n",
       "181689                Government Building/Facility/Office   \n",
       "181690                                                NaN   \n",
       "\n",
       "                                         Gang_name Weapon_type  No_of_kills  \n",
       "0                                           MANO-D     Unknown          1.0  \n",
       "1               23rd of September Communist League     Unknown          0.0  \n",
       "2                                          Unknown     Unknown          1.0  \n",
       "3                                          Unknown  Explosives          NaN  \n",
       "4                                          Unknown  Incendiary          NaN  \n",
       "...                                            ...         ...          ...  \n",
       "181686                                  Al-Shabaab    Firearms          1.0  \n",
       "181687                           Muslim extremists  Explosives          2.0  \n",
       "181688  Bangsamoro Islamic Freedom Movement (BIFM)  Incendiary          0.0  \n",
       "181689                                     Unknown  Explosives          0.0  \n",
       "181690                                     Unknown  Explosives          0.0  \n",
       "\n",
       "[181691 rows x 16 columns]"
      ]
     },
     "execution_count": 10,
     "metadata": {},
     "output_type": "execute_result"
    }
   ],
   "source": [
    "#lets check the all columns we have selected\n",
    "terror_df"
   ]
  },
  {
   "cell_type": "code",
   "execution_count": 11,
   "id": "4b2a6eba",
   "metadata": {},
   "outputs": [
    {
     "data": {
      "text/plain": [
       "Year                  0\n",
       "Month                 0\n",
       "day                   0\n",
       "Country_name          0\n",
       "State               421\n",
       "Region                0\n",
       "City                434\n",
       "multiple              1\n",
       "success               0\n",
       "suicide               0\n",
       "Attack_type           0\n",
       "Target_type           0\n",
       "Target_subtype    10373\n",
       "Gang_name             0\n",
       "Weapon_type           0\n",
       "No_of_kills       10313\n",
       "dtype: int64"
      ]
     },
     "execution_count": 11,
     "metadata": {},
     "output_type": "execute_result"
    }
   ],
   "source": [
    "terror_df.isnull().sum()"
   ]
  },
  {
   "cell_type": "code",
   "execution_count": 12,
   "id": "2c40cca7",
   "metadata": {},
   "outputs": [],
   "source": [
    "# Now we need to make some changes in the dataset that are required\n",
    "# Lets remove NaN Values from different columns and replace with appropriate word.\n",
    "\n",
    "terror_df['State'] = terror_df['State'].fillna('others')\n",
    "terror_df['City'] = terror_df['City'].fillna('unknown')\n",
    "terror_df['Target_subtype'] = terror_df['Target_subtype'].fillna('unknown')\n"
   ]
  },
  {
   "cell_type": "code",
   "execution_count": 13,
   "id": "54e63eba",
   "metadata": {},
   "outputs": [],
   "source": [
    "# we have some numerical columns as well those having null values so, we update those with mode/mean of the value\n",
    "\n",
    "mode_multipleatacks = terror_df['multiple'].mode()\n",
    "modeNo_ofKills = terror_df['No_of_kills'].mode()"
   ]
  },
  {
   "cell_type": "code",
   "execution_count": 14,
   "id": "aeadb6b7",
   "metadata": {},
   "outputs": [],
   "source": [
    "# lets fill those null values now\n",
    "terror_df['multiple'].fillna(value=mode_multipleatacks[0],inplace=True)\n",
    "terror_df['No_of_kills'].fillna(value=modeNo_ofKills[0], inplace=True)"
   ]
  },
  {
   "cell_type": "code",
   "execution_count": 15,
   "id": "72bde7de",
   "metadata": {},
   "outputs": [
    {
     "data": {
      "text/plain": [
       "Year              0\n",
       "Month             0\n",
       "day               0\n",
       "Country_name      0\n",
       "State             0\n",
       "Region            0\n",
       "City              0\n",
       "multiple          0\n",
       "success           0\n",
       "suicide           0\n",
       "Attack_type       0\n",
       "Target_type       0\n",
       "Target_subtype    0\n",
       "Gang_name         0\n",
       "Weapon_type       0\n",
       "No_of_kills       0\n",
       "dtype: int64"
      ]
     },
     "execution_count": 15,
     "metadata": {},
     "output_type": "execute_result"
    }
   ],
   "source": [
    "# Lets check again for null values \n",
    "terror_df.isnull().sum()"
   ]
  },
  {
   "cell_type": "markdown",
   "id": "b78fcf36",
   "metadata": {},
   "source": [
    "As we have seen there is no null values in the dataset now, now our dataset is ready to analyze"
   ]
  },
  {
   "cell_type": "code",
   "execution_count": 16,
   "id": "9aa48010",
   "metadata": {},
   "outputs": [],
   "source": [
    "# lets make it simpler replace it with Vehicle\n",
    "\n",
    "terror_df.replace({\"Vehicle (not to include vehicle-borne explosive, i.e.,car or truck bombs)\":\"Vehicle\"},inplace = True)"
   ]
  },
  {
   "cell_type": "markdown",
   "id": "b6897edf",
   "metadata": {},
   "source": [
    "**This is our final updated data frame.**"
   ]
  },
  {
   "cell_type": "code",
   "execution_count": 17,
   "id": "5d2de22a",
   "metadata": {},
   "outputs": [
    {
     "data": {
      "text/plain": [
       "(181691, 16)"
      ]
     },
     "execution_count": 17,
     "metadata": {},
     "output_type": "execute_result"
    }
   ],
   "source": [
    "# Now we can check the shape of our date\n",
    "\n",
    "terror_df.shape"
   ]
  },
  {
   "cell_type": "markdown",
   "id": "0fffa42a",
   "metadata": {},
   "source": [
    "We can see there are only 16 columns and 181691 Rows."
   ]
  },
  {
   "cell_type": "code",
   "execution_count": 18,
   "id": "1be6754b",
   "metadata": {},
   "outputs": [
    {
     "data": {
      "text/html": [
       "<div>\n",
       "<style scoped>\n",
       "    .dataframe tbody tr th:only-of-type {\n",
       "        vertical-align: middle;\n",
       "    }\n",
       "\n",
       "    .dataframe tbody tr th {\n",
       "        vertical-align: top;\n",
       "    }\n",
       "\n",
       "    .dataframe thead th {\n",
       "        text-align: right;\n",
       "    }\n",
       "</style>\n",
       "<table border=\"1\" class=\"dataframe\">\n",
       "  <thead>\n",
       "    <tr style=\"text-align: right;\">\n",
       "      <th></th>\n",
       "      <th>Year</th>\n",
       "      <th>Month</th>\n",
       "      <th>day</th>\n",
       "      <th>Country_name</th>\n",
       "      <th>State</th>\n",
       "      <th>Region</th>\n",
       "      <th>City</th>\n",
       "      <th>multiple</th>\n",
       "      <th>success</th>\n",
       "      <th>suicide</th>\n",
       "      <th>Attack_type</th>\n",
       "      <th>Target_type</th>\n",
       "      <th>Target_subtype</th>\n",
       "      <th>Gang_name</th>\n",
       "      <th>Weapon_type</th>\n",
       "      <th>No_of_kills</th>\n",
       "    </tr>\n",
       "  </thead>\n",
       "  <tbody>\n",
       "    <tr>\n",
       "      <th>0</th>\n",
       "      <td>1970</td>\n",
       "      <td>7</td>\n",
       "      <td>2</td>\n",
       "      <td>Dominican Republic</td>\n",
       "      <td>others</td>\n",
       "      <td>Central America &amp; Caribbean</td>\n",
       "      <td>Santo Domingo</td>\n",
       "      <td>0.0</td>\n",
       "      <td>1</td>\n",
       "      <td>0</td>\n",
       "      <td>Assassination</td>\n",
       "      <td>Private Citizens &amp; Property</td>\n",
       "      <td>Named Civilian</td>\n",
       "      <td>MANO-D</td>\n",
       "      <td>Unknown</td>\n",
       "      <td>1.0</td>\n",
       "    </tr>\n",
       "    <tr>\n",
       "      <th>1</th>\n",
       "      <td>1970</td>\n",
       "      <td>0</td>\n",
       "      <td>0</td>\n",
       "      <td>Mexico</td>\n",
       "      <td>Federal</td>\n",
       "      <td>North America</td>\n",
       "      <td>Mexico city</td>\n",
       "      <td>0.0</td>\n",
       "      <td>1</td>\n",
       "      <td>0</td>\n",
       "      <td>Hostage Taking (Kidnapping)</td>\n",
       "      <td>Government (Diplomatic)</td>\n",
       "      <td>Diplomatic Personnel (outside of embassy, cons...</td>\n",
       "      <td>23rd of September Communist League</td>\n",
       "      <td>Unknown</td>\n",
       "      <td>0.0</td>\n",
       "    </tr>\n",
       "    <tr>\n",
       "      <th>2</th>\n",
       "      <td>1970</td>\n",
       "      <td>1</td>\n",
       "      <td>0</td>\n",
       "      <td>Philippines</td>\n",
       "      <td>Tarlac</td>\n",
       "      <td>Southeast Asia</td>\n",
       "      <td>Unknown</td>\n",
       "      <td>0.0</td>\n",
       "      <td>1</td>\n",
       "      <td>0</td>\n",
       "      <td>Assassination</td>\n",
       "      <td>Journalists &amp; Media</td>\n",
       "      <td>Radio Journalist/Staff/Facility</td>\n",
       "      <td>Unknown</td>\n",
       "      <td>Unknown</td>\n",
       "      <td>1.0</td>\n",
       "    </tr>\n",
       "    <tr>\n",
       "      <th>3</th>\n",
       "      <td>1970</td>\n",
       "      <td>1</td>\n",
       "      <td>0</td>\n",
       "      <td>Greece</td>\n",
       "      <td>Attica</td>\n",
       "      <td>Western Europe</td>\n",
       "      <td>Athens</td>\n",
       "      <td>0.0</td>\n",
       "      <td>1</td>\n",
       "      <td>0</td>\n",
       "      <td>Bombing/Explosion</td>\n",
       "      <td>Government (Diplomatic)</td>\n",
       "      <td>Embassy/Consulate</td>\n",
       "      <td>Unknown</td>\n",
       "      <td>Explosives</td>\n",
       "      <td>0.0</td>\n",
       "    </tr>\n",
       "    <tr>\n",
       "      <th>4</th>\n",
       "      <td>1970</td>\n",
       "      <td>1</td>\n",
       "      <td>0</td>\n",
       "      <td>Japan</td>\n",
       "      <td>Fukouka</td>\n",
       "      <td>East Asia</td>\n",
       "      <td>Fukouka</td>\n",
       "      <td>0.0</td>\n",
       "      <td>1</td>\n",
       "      <td>0</td>\n",
       "      <td>Facility/Infrastructure Attack</td>\n",
       "      <td>Government (Diplomatic)</td>\n",
       "      <td>Embassy/Consulate</td>\n",
       "      <td>Unknown</td>\n",
       "      <td>Incendiary</td>\n",
       "      <td>0.0</td>\n",
       "    </tr>\n",
       "    <tr>\n",
       "      <th>5</th>\n",
       "      <td>1970</td>\n",
       "      <td>1</td>\n",
       "      <td>1</td>\n",
       "      <td>United States</td>\n",
       "      <td>Illinois</td>\n",
       "      <td>North America</td>\n",
       "      <td>Cairo</td>\n",
       "      <td>0.0</td>\n",
       "      <td>1</td>\n",
       "      <td>0</td>\n",
       "      <td>Armed Assault</td>\n",
       "      <td>Police</td>\n",
       "      <td>Police Building (headquarters, station, school)</td>\n",
       "      <td>Black Nationalists</td>\n",
       "      <td>Firearms</td>\n",
       "      <td>0.0</td>\n",
       "    </tr>\n",
       "    <tr>\n",
       "      <th>6</th>\n",
       "      <td>1970</td>\n",
       "      <td>1</td>\n",
       "      <td>2</td>\n",
       "      <td>Uruguay</td>\n",
       "      <td>Montevideo</td>\n",
       "      <td>South America</td>\n",
       "      <td>Montevideo</td>\n",
       "      <td>0.0</td>\n",
       "      <td>0</td>\n",
       "      <td>0</td>\n",
       "      <td>Assassination</td>\n",
       "      <td>Police</td>\n",
       "      <td>Police Security Forces/Officers</td>\n",
       "      <td>Tupamaros (Uruguay)</td>\n",
       "      <td>Firearms</td>\n",
       "      <td>0.0</td>\n",
       "    </tr>\n",
       "    <tr>\n",
       "      <th>7</th>\n",
       "      <td>1970</td>\n",
       "      <td>1</td>\n",
       "      <td>2</td>\n",
       "      <td>United States</td>\n",
       "      <td>California</td>\n",
       "      <td>North America</td>\n",
       "      <td>Oakland</td>\n",
       "      <td>0.0</td>\n",
       "      <td>1</td>\n",
       "      <td>0</td>\n",
       "      <td>Bombing/Explosion</td>\n",
       "      <td>Utilities</td>\n",
       "      <td>Electricity</td>\n",
       "      <td>Unknown</td>\n",
       "      <td>Explosives</td>\n",
       "      <td>0.0</td>\n",
       "    </tr>\n",
       "    <tr>\n",
       "      <th>8</th>\n",
       "      <td>1970</td>\n",
       "      <td>1</td>\n",
       "      <td>2</td>\n",
       "      <td>United States</td>\n",
       "      <td>Wisconsin</td>\n",
       "      <td>North America</td>\n",
       "      <td>Madison</td>\n",
       "      <td>0.0</td>\n",
       "      <td>1</td>\n",
       "      <td>0</td>\n",
       "      <td>Facility/Infrastructure Attack</td>\n",
       "      <td>Military</td>\n",
       "      <td>Military Recruiting Station/Academy</td>\n",
       "      <td>New Year's Gang</td>\n",
       "      <td>Incendiary</td>\n",
       "      <td>0.0</td>\n",
       "    </tr>\n",
       "    <tr>\n",
       "      <th>9</th>\n",
       "      <td>1970</td>\n",
       "      <td>1</td>\n",
       "      <td>3</td>\n",
       "      <td>United States</td>\n",
       "      <td>Wisconsin</td>\n",
       "      <td>North America</td>\n",
       "      <td>Madison</td>\n",
       "      <td>0.0</td>\n",
       "      <td>1</td>\n",
       "      <td>0</td>\n",
       "      <td>Facility/Infrastructure Attack</td>\n",
       "      <td>Government (General)</td>\n",
       "      <td>Government Building/Facility/Office</td>\n",
       "      <td>New Year's Gang</td>\n",
       "      <td>Incendiary</td>\n",
       "      <td>0.0</td>\n",
       "    </tr>\n",
       "  </tbody>\n",
       "</table>\n",
       "</div>"
      ],
      "text/plain": [
       "   Year  Month  day        Country_name       State  \\\n",
       "0  1970      7    2  Dominican Republic      others   \n",
       "1  1970      0    0              Mexico     Federal   \n",
       "2  1970      1    0         Philippines      Tarlac   \n",
       "3  1970      1    0              Greece      Attica   \n",
       "4  1970      1    0               Japan     Fukouka   \n",
       "5  1970      1    1       United States    Illinois   \n",
       "6  1970      1    2             Uruguay  Montevideo   \n",
       "7  1970      1    2       United States  California   \n",
       "8  1970      1    2       United States   Wisconsin   \n",
       "9  1970      1    3       United States   Wisconsin   \n",
       "\n",
       "                        Region           City  multiple  success  suicide  \\\n",
       "0  Central America & Caribbean  Santo Domingo       0.0        1        0   \n",
       "1                North America    Mexico city       0.0        1        0   \n",
       "2               Southeast Asia        Unknown       0.0        1        0   \n",
       "3               Western Europe         Athens       0.0        1        0   \n",
       "4                    East Asia        Fukouka       0.0        1        0   \n",
       "5                North America          Cairo       0.0        1        0   \n",
       "6                South America     Montevideo       0.0        0        0   \n",
       "7                North America        Oakland       0.0        1        0   \n",
       "8                North America        Madison       0.0        1        0   \n",
       "9                North America        Madison       0.0        1        0   \n",
       "\n",
       "                      Attack_type                  Target_type  \\\n",
       "0                   Assassination  Private Citizens & Property   \n",
       "1     Hostage Taking (Kidnapping)      Government (Diplomatic)   \n",
       "2                   Assassination          Journalists & Media   \n",
       "3               Bombing/Explosion      Government (Diplomatic)   \n",
       "4  Facility/Infrastructure Attack      Government (Diplomatic)   \n",
       "5                   Armed Assault                       Police   \n",
       "6                   Assassination                       Police   \n",
       "7               Bombing/Explosion                    Utilities   \n",
       "8  Facility/Infrastructure Attack                     Military   \n",
       "9  Facility/Infrastructure Attack         Government (General)   \n",
       "\n",
       "                                      Target_subtype  \\\n",
       "0                                     Named Civilian   \n",
       "1  Diplomatic Personnel (outside of embassy, cons...   \n",
       "2                    Radio Journalist/Staff/Facility   \n",
       "3                                  Embassy/Consulate   \n",
       "4                                  Embassy/Consulate   \n",
       "5    Police Building (headquarters, station, school)   \n",
       "6                    Police Security Forces/Officers   \n",
       "7                                        Electricity   \n",
       "8                Military Recruiting Station/Academy   \n",
       "9                Government Building/Facility/Office   \n",
       "\n",
       "                            Gang_name Weapon_type  No_of_kills  \n",
       "0                              MANO-D     Unknown          1.0  \n",
       "1  23rd of September Communist League     Unknown          0.0  \n",
       "2                             Unknown     Unknown          1.0  \n",
       "3                             Unknown  Explosives          0.0  \n",
       "4                             Unknown  Incendiary          0.0  \n",
       "5                  Black Nationalists    Firearms          0.0  \n",
       "6                 Tupamaros (Uruguay)    Firearms          0.0  \n",
       "7                             Unknown  Explosives          0.0  \n",
       "8                     New Year's Gang  Incendiary          0.0  \n",
       "9                     New Year's Gang  Incendiary          0.0  "
      ]
     },
     "execution_count": 18,
     "metadata": {},
     "output_type": "execute_result"
    }
   ],
   "source": [
    "# Lets check the top 10 rows of our data\n",
    "terror_df.head(10)"
   ]
  },
  {
   "cell_type": "code",
   "execution_count": 19,
   "id": "83263e7e",
   "metadata": {},
   "outputs": [
    {
     "data": {
      "text/plain": [
       "Index(['Year', 'Month', 'day', 'Country_name', 'State', 'Region', 'City',\n",
       "       'multiple', 'success', 'suicide', 'Attack_type', 'Target_type',\n",
       "       'Target_subtype', 'Gang_name', 'Weapon_type', 'No_of_kills'],\n",
       "      dtype='object')"
      ]
     },
     "execution_count": 19,
     "metadata": {},
     "output_type": "execute_result"
    }
   ],
   "source": [
    "# Lets check for unique columns\n",
    "terror_df.columns.unique()"
   ]
  },
  {
   "cell_type": "code",
   "execution_count": 20,
   "id": "cd2fcee8",
   "metadata": {},
   "outputs": [
    {
     "data": {
      "text/plain": [
       "16"
      ]
     },
     "execution_count": 20,
     "metadata": {},
     "output_type": "execute_result"
    }
   ],
   "source": [
    "# Lets check for no of columns\n",
    "terror_df.columns.nunique()"
   ]
  },
  {
   "cell_type": "code",
   "execution_count": 21,
   "id": "861e6132",
   "metadata": {},
   "outputs": [
    {
     "name": "stdout",
     "output_type": "stream",
     "text": [
      "total countries were noted in the data - 205\n"
     ]
    }
   ],
   "source": [
    "# \n",
    "\n",
    "Total_countries = terror_df['Country_name'].nunique()\n",
    "print(f\"total countries were noted in the data - {Total_countries}\")"
   ]
  },
  {
   "cell_type": "code",
   "execution_count": 22,
   "id": "a8698962",
   "metadata": {},
   "outputs": [
    {
     "name": "stdout",
     "output_type": "stream",
     "text": [
      "['Central America & Caribbean' 'North America' 'Southeast Asia'\n",
      " 'Western Europe' 'East Asia' 'South America' 'Eastern Europe'\n",
      " 'Sub-Saharan Africa' 'Middle East & North Africa' 'Australasia & Oceania'\n",
      " 'South Asia' 'Central Asia']\n",
      "12\n"
     ]
    }
   ],
   "source": [
    "print(terror_df['Region'].unique())\n",
    "print(terror_df['Region'].nunique())"
   ]
  },
  {
   "cell_type": "code",
   "execution_count": 23,
   "id": "33f441d1",
   "metadata": {},
   "outputs": [
    {
     "name": "stdout",
     "output_type": "stream",
     "text": [
      "['Assassination' 'Hostage Taking (Kidnapping)' 'Bombing/Explosion'\n",
      " 'Facility/Infrastructure Attack' 'Armed Assault' 'Hijacking' 'Unknown'\n",
      " 'Unarmed Assault' 'Hostage Taking (Barricade Incident)']\n",
      "9\n"
     ]
    }
   ],
   "source": [
    "print(terror_df['Attack_type'].unique())\n",
    "print(terror_df['Attack_type'].nunique())"
   ]
  },
  {
   "cell_type": "code",
   "execution_count": 24,
   "id": "81a98f06",
   "metadata": {},
   "outputs": [
    {
     "name": "stdout",
     "output_type": "stream",
     "text": [
      "['Private Citizens & Property' 'Government (Diplomatic)'\n",
      " 'Journalists & Media' 'Police' 'Utilities' 'Military'\n",
      " 'Government (General)' 'Airports & Aircraft' 'Business'\n",
      " 'Educational Institution' 'Violent Political Party'\n",
      " 'Religious Figures/Institutions' 'Unknown' 'Transportation' 'Tourists'\n",
      " 'NGO' 'Telecommunication' 'Food or Water Supply'\n",
      " 'Terrorists/Non-State Militia' 'Other' 'Maritime' 'Abortion Related']\n",
      "22\n"
     ]
    }
   ],
   "source": [
    "print(terror_df['Target_type'].unique())\n",
    "print(terror_df['Target_type'].nunique())"
   ]
  },
  {
   "cell_type": "code",
   "execution_count": 25,
   "id": "bb81ad0e",
   "metadata": {},
   "outputs": [
    {
     "name": "stdout",
     "output_type": "stream",
     "text": [
      "['MANO-D' '23rd of September Communist League' 'Unknown' ...\n",
      " 'Fatoni Warriors' 'Minorities of Metropolitan Attacks'\n",
      " 'Baloch Republican Party']\n",
      "3537\n"
     ]
    }
   ],
   "source": [
    "print(terror_df['Gang_name'].unique())\n",
    "print(terror_df['Gang_name'].nunique())"
   ]
  },
  {
   "cell_type": "markdown",
   "id": "f47881a3",
   "metadata": {},
   "source": [
    "As per the dataset there are 3537 Terrorist groups avialable in the world."
   ]
  },
  {
   "cell_type": "code",
   "execution_count": 26,
   "id": "35e36c39",
   "metadata": {},
   "outputs": [
    {
     "name": "stdout",
     "output_type": "stream",
     "text": [
      "['Unknown' 'Explosives' 'Incendiary' 'Firearms' 'Chemical' 'Melee'\n",
      " 'Sabotage Equipment'\n",
      " 'Vehicle (not to include vehicle-borne explosives, i.e., car or truck bombs)'\n",
      " 'Fake Weapons' 'Radiological' 'Other' 'Biological']\n",
      "12\n"
     ]
    }
   ],
   "source": [
    "print(terror_df['Weapon_type'].unique())\n",
    "print(terror_df['Weapon_type'].nunique())"
   ]
  },
  {
   "cell_type": "code",
   "execution_count": 27,
   "id": "ba67e0da",
   "metadata": {},
   "outputs": [
    {
     "name": "stdout",
     "output_type": "stream",
     "text": [
      "<class 'pandas.core.frame.DataFrame'>\n",
      "RangeIndex: 181691 entries, 0 to 181690\n",
      "Data columns (total 16 columns):\n",
      " #   Column          Non-Null Count   Dtype  \n",
      "---  ------          --------------   -----  \n",
      " 0   Year            181691 non-null  int64  \n",
      " 1   Month           181691 non-null  int64  \n",
      " 2   day             181691 non-null  int64  \n",
      " 3   Country_name    181691 non-null  object \n",
      " 4   State           181691 non-null  object \n",
      " 5   Region          181691 non-null  object \n",
      " 6   City            181691 non-null  object \n",
      " 7   multiple        181691 non-null  float64\n",
      " 8   success         181691 non-null  int64  \n",
      " 9   suicide         181691 non-null  int64  \n",
      " 10  Attack_type     181691 non-null  object \n",
      " 11  Target_type     181691 non-null  object \n",
      " 12  Target_subtype  181691 non-null  object \n",
      " 13  Gang_name       181691 non-null  object \n",
      " 14  Weapon_type     181691 non-null  object \n",
      " 15  No_of_kills     181691 non-null  float64\n",
      "dtypes: float64(2), int64(5), object(9)\n",
      "memory usage: 22.2+ MB\n"
     ]
    }
   ],
   "source": [
    "# Lets check the information about data\n",
    "\n",
    "terror_df.info()"
   ]
  },
  {
   "cell_type": "code",
   "execution_count": 28,
   "id": "2b05fa5d",
   "metadata": {},
   "outputs": [
    {
     "data": {
      "text/html": [
       "<div>\n",
       "<style scoped>\n",
       "    .dataframe tbody tr th:only-of-type {\n",
       "        vertical-align: middle;\n",
       "    }\n",
       "\n",
       "    .dataframe tbody tr th {\n",
       "        vertical-align: top;\n",
       "    }\n",
       "\n",
       "    .dataframe thead th {\n",
       "        text-align: right;\n",
       "    }\n",
       "</style>\n",
       "<table border=\"1\" class=\"dataframe\">\n",
       "  <thead>\n",
       "    <tr style=\"text-align: right;\">\n",
       "      <th></th>\n",
       "      <th>Year</th>\n",
       "      <th>Month</th>\n",
       "      <th>day</th>\n",
       "      <th>multiple</th>\n",
       "      <th>success</th>\n",
       "      <th>suicide</th>\n",
       "      <th>No_of_kills</th>\n",
       "    </tr>\n",
       "  </thead>\n",
       "  <tbody>\n",
       "    <tr>\n",
       "      <th>count</th>\n",
       "      <td>181691.000000</td>\n",
       "      <td>181691.000000</td>\n",
       "      <td>181691.000000</td>\n",
       "      <td>181691.000000</td>\n",
       "      <td>181691.000000</td>\n",
       "      <td>181691.000000</td>\n",
       "      <td>181691.000000</td>\n",
       "    </tr>\n",
       "    <tr>\n",
       "      <th>mean</th>\n",
       "      <td>2002.638997</td>\n",
       "      <td>6.467277</td>\n",
       "      <td>15.505644</td>\n",
       "      <td>0.137772</td>\n",
       "      <td>0.889598</td>\n",
       "      <td>0.036507</td>\n",
       "      <td>2.266860</td>\n",
       "    </tr>\n",
       "    <tr>\n",
       "      <th>std</th>\n",
       "      <td>13.259430</td>\n",
       "      <td>3.388303</td>\n",
       "      <td>8.814045</td>\n",
       "      <td>0.344662</td>\n",
       "      <td>0.313391</td>\n",
       "      <td>0.187549</td>\n",
       "      <td>11.227057</td>\n",
       "    </tr>\n",
       "    <tr>\n",
       "      <th>min</th>\n",
       "      <td>1970.000000</td>\n",
       "      <td>0.000000</td>\n",
       "      <td>0.000000</td>\n",
       "      <td>0.000000</td>\n",
       "      <td>0.000000</td>\n",
       "      <td>0.000000</td>\n",
       "      <td>0.000000</td>\n",
       "    </tr>\n",
       "    <tr>\n",
       "      <th>25%</th>\n",
       "      <td>1991.000000</td>\n",
       "      <td>4.000000</td>\n",
       "      <td>8.000000</td>\n",
       "      <td>0.000000</td>\n",
       "      <td>1.000000</td>\n",
       "      <td>0.000000</td>\n",
       "      <td>0.000000</td>\n",
       "    </tr>\n",
       "    <tr>\n",
       "      <th>50%</th>\n",
       "      <td>2009.000000</td>\n",
       "      <td>6.000000</td>\n",
       "      <td>15.000000</td>\n",
       "      <td>0.000000</td>\n",
       "      <td>1.000000</td>\n",
       "      <td>0.000000</td>\n",
       "      <td>0.000000</td>\n",
       "    </tr>\n",
       "    <tr>\n",
       "      <th>75%</th>\n",
       "      <td>2014.000000</td>\n",
       "      <td>9.000000</td>\n",
       "      <td>23.000000</td>\n",
       "      <td>0.000000</td>\n",
       "      <td>1.000000</td>\n",
       "      <td>0.000000</td>\n",
       "      <td>2.000000</td>\n",
       "    </tr>\n",
       "    <tr>\n",
       "      <th>max</th>\n",
       "      <td>2017.000000</td>\n",
       "      <td>12.000000</td>\n",
       "      <td>31.000000</td>\n",
       "      <td>1.000000</td>\n",
       "      <td>1.000000</td>\n",
       "      <td>1.000000</td>\n",
       "      <td>1570.000000</td>\n",
       "    </tr>\n",
       "  </tbody>\n",
       "</table>\n",
       "</div>"
      ],
      "text/plain": [
       "                Year          Month            day       multiple  \\\n",
       "count  181691.000000  181691.000000  181691.000000  181691.000000   \n",
       "mean     2002.638997       6.467277      15.505644       0.137772   \n",
       "std        13.259430       3.388303       8.814045       0.344662   \n",
       "min      1970.000000       0.000000       0.000000       0.000000   \n",
       "25%      1991.000000       4.000000       8.000000       0.000000   \n",
       "50%      2009.000000       6.000000      15.000000       0.000000   \n",
       "75%      2014.000000       9.000000      23.000000       0.000000   \n",
       "max      2017.000000      12.000000      31.000000       1.000000   \n",
       "\n",
       "             success        suicide    No_of_kills  \n",
       "count  181691.000000  181691.000000  181691.000000  \n",
       "mean        0.889598       0.036507       2.266860  \n",
       "std         0.313391       0.187549      11.227057  \n",
       "min         0.000000       0.000000       0.000000  \n",
       "25%         1.000000       0.000000       0.000000  \n",
       "50%         1.000000       0.000000       0.000000  \n",
       "75%         1.000000       0.000000       2.000000  \n",
       "max         1.000000       1.000000    1570.000000  "
      ]
     },
     "execution_count": 28,
     "metadata": {},
     "output_type": "execute_result"
    }
   ],
   "source": [
    "# We will check statistical description of the dataset.\n",
    "\n",
    "terror_df.describe()"
   ]
  },
  {
   "cell_type": "code",
   "execution_count": 29,
   "id": "0311a8ab",
   "metadata": {},
   "outputs": [
    {
     "data": {
      "text/plain": [
       "Year              0.0\n",
       "Month             0.0\n",
       "day               0.0\n",
       "Country_name      0.0\n",
       "State             0.0\n",
       "Region            0.0\n",
       "City              0.0\n",
       "multiple          0.0\n",
       "success           0.0\n",
       "suicide           0.0\n",
       "Attack_type       0.0\n",
       "Target_type       0.0\n",
       "Target_subtype    0.0\n",
       "Gang_name         0.0\n",
       "Weapon_type       0.0\n",
       "No_of_kills       0.0\n",
       "dtype: float64"
      ]
     },
     "execution_count": 29,
     "metadata": {},
     "output_type": "execute_result"
    }
   ],
   "source": [
    "# percentage of missing values in our dataset\n",
    "missing_values = (terror_df.isnull().sum()/terror_df.size)*100\n",
    "missing_values"
   ]
  },
  {
   "cell_type": "code",
   "execution_count": 30,
   "id": "95c43514",
   "metadata": {},
   "outputs": [
    {
     "data": {
      "text/plain": [
       "Iraq              24636\n",
       "Pakistan          14368\n",
       "Afghanistan       12731\n",
       "India             11960\n",
       "Colombia           8306\n",
       "Philippines        6908\n",
       "Peru               6096\n",
       "El Salvador        5320\n",
       "United Kingdom     5235\n",
       "Turkey             4292\n",
       "Name: Country_name, dtype: int64"
      ]
     },
     "execution_count": 30,
     "metadata": {},
     "output_type": "execute_result"
    }
   ],
   "source": [
    "# Lets check the Top 10 affected countries.\n",
    "\n",
    "terror_df['Country_name'].value_counts().head(10)"
   ]
  },
  {
   "cell_type": "code",
   "execution_count": 31,
   "id": "d474ec18",
   "metadata": {},
   "outputs": [
    {
     "data": {
      "text/plain": [
       "Middle East & North Africa     50474\n",
       "South Asia                     44974\n",
       "South America                  18978\n",
       "Sub-Saharan Africa             17550\n",
       "Western Europe                 16639\n",
       "Southeast Asia                 12485\n",
       "Central America & Caribbean    10344\n",
       "Eastern Europe                  5144\n",
       "North America                   3456\n",
       "East Asia                        802\n",
       "Name: Region, dtype: int64"
      ]
     },
     "execution_count": 31,
     "metadata": {},
     "output_type": "execute_result"
    }
   ],
   "source": [
    "# Lets check the top 10 affected Region\n",
    "terror_df['Region'].value_counts().head(10)"
   ]
  },
  {
   "cell_type": "code",
   "execution_count": 32,
   "id": "00ce2025",
   "metadata": {},
   "outputs": [
    {
     "data": {
      "text/plain": [
       "Baghdad               7645\n",
       "Northern Ireland      4498\n",
       "Unknown               4290\n",
       "Balochistan           3710\n",
       "Saladin               3411\n",
       "Al Anbar              3299\n",
       "Nineveh               3241\n",
       "Sindh                 3206\n",
       "Khyber Pakhtunkhwa    3084\n",
       "Diyala                3041\n",
       "Name: State, dtype: int64"
      ]
     },
     "execution_count": 32,
     "metadata": {},
     "output_type": "execute_result"
    }
   ],
   "source": [
    "# Lets check the top 10 affected states\n",
    "\n",
    "terror_df['State'].value_counts().head(10)"
   ]
  },
  {
   "cell_type": "code",
   "execution_count": 33,
   "id": "d3dc7f07",
   "metadata": {},
   "outputs": [
    {
     "data": {
      "text/plain": [
       "Unnamed Civilian/Unspecified                               11596\n",
       "Police Security Forces/Officers                            11178\n",
       "unknown                                                    10373\n",
       "Military Unit/Patrol/Convoy                                 8277\n",
       "Military Personnel (soldiers, troops, officers, forces)     7963\n",
       "Government Personnel (excluding police, military)           6610\n",
       "Village/City/Town/Suburb                                    6542\n",
       "Politician or Political Party Movement/Meeting/Rally        6306\n",
       "Police Building (headquarters, station, school)             5907\n",
       "Military Barracks/Base/Headquarters/Checkpost               5211\n",
       "Name: Target_subtype, dtype: int64"
      ]
     },
     "execution_count": 33,
     "metadata": {},
     "output_type": "execute_result"
    }
   ],
   "source": [
    "# Lets check the affected target subtypes by the groups.\n",
    "terror_df['Target_subtype'].value_counts().head(10)"
   ]
  },
  {
   "cell_type": "code",
   "execution_count": 34,
   "id": "a723e31d",
   "metadata": {},
   "outputs": [
    {
     "data": {
      "text/plain": [
       "Unknown         9775\n",
       "Baghdad         7589\n",
       "Karachi         2652\n",
       "Lima            2359\n",
       "Mosul           2265\n",
       "Belfast         2171\n",
       "Santiago        1621\n",
       "Mogadishu       1581\n",
       "San Salvador    1558\n",
       "Istanbul        1048\n",
       "Name: City, dtype: int64"
      ]
     },
     "execution_count": 34,
     "metadata": {},
     "output_type": "execute_result"
    }
   ],
   "source": [
    "# Lets check the top 10 affected Cities by Groups.\n",
    "terror_df['City'].value_counts().head(10)"
   ]
  },
  {
   "cell_type": "code",
   "execution_count": 35,
   "id": "67cbf564",
   "metadata": {},
   "outputs": [
    {
     "data": {
      "text/plain": [
       "Bombing/Explosion                      88255\n",
       "Armed Assault                          42669\n",
       "Assassination                          19312\n",
       "Hostage Taking (Kidnapping)            11158\n",
       "Facility/Infrastructure Attack         10356\n",
       "Unknown                                 7276\n",
       "Unarmed Assault                         1015\n",
       "Hostage Taking (Barricade Incident)      991\n",
       "Hijacking                                659\n",
       "Name: Attack_type, dtype: int64"
      ]
     },
     "execution_count": 35,
     "metadata": {},
     "output_type": "execute_result"
    }
   ],
   "source": [
    "# These are the Top 10 Attack modes used by Terrorist Groups.\n",
    "terror_df['Attack_type'].value_counts().head(10)"
   ]
  },
  {
   "cell_type": "code",
   "execution_count": 36,
   "id": "f40bf639",
   "metadata": {},
   "outputs": [
    {
     "data": {
      "text/plain": [
       "Private Citizens & Property       43511\n",
       "Military                          27984\n",
       "Police                            24506\n",
       "Government (General)              21283\n",
       "Business                          20669\n",
       "Transportation                     6799\n",
       "Utilities                          6023\n",
       "Unknown                            5898\n",
       "Religious Figures/Institutions     4440\n",
       "Educational Institution            4322\n",
       "Name: Target_type, dtype: int64"
      ]
     },
     "execution_count": 36,
     "metadata": {},
     "output_type": "execute_result"
    }
   ],
   "source": [
    "# These are the top 10 things targeted by different Groups.\n",
    "terror_df['Target_type'].value_counts().head(10)"
   ]
  },
  {
   "cell_type": "code",
   "execution_count": 37,
   "id": "719ba0b3",
   "metadata": {},
   "outputs": [
    {
     "data": {
      "text/plain": [
       "Unknown                                             82782\n",
       "Taliban                                              7478\n",
       "Islamic State of Iraq and the Levant (ISIL)          5613\n",
       "Shining Path (SL)                                    4555\n",
       "Farabundo Marti National Liberation Front (FMLN)     3351\n",
       "Al-Shabaab                                           3288\n",
       "New People's Army (NPA)                              2772\n",
       "Irish Republican Army (IRA)                          2671\n",
       "Revolutionary Armed Forces of Colombia (FARC)        2487\n",
       "Boko Haram                                           2418\n",
       "Name: Gang_name, dtype: int64"
      ]
     },
     "execution_count": 37,
     "metadata": {},
     "output_type": "execute_result"
    }
   ],
   "source": [
    "# These are the top 10 dangerous groups involed in different attacks.\n",
    "terror_df['Gang_name'].value_counts().head(10)"
   ]
  },
  {
   "cell_type": "code",
   "execution_count": 38,
   "id": "c36b6bfa",
   "metadata": {},
   "outputs": [
    {
     "data": {
      "text/plain": [
       "Explosives    92426\n",
       "Firearms      58524\n",
       "Unknown       15157\n",
       "Incendiary    11135\n",
       "Melee          3655\n",
       "Name: Weapon_type, dtype: int64"
      ]
     },
     "execution_count": 38,
     "metadata": {},
     "output_type": "execute_result"
    }
   ],
   "source": [
    "# These are the top 5 weapons for attacks used by different groups\n",
    "terror_df['Weapon_type'].value_counts().head()"
   ]
  },
  {
   "cell_type": "markdown",
   "id": "0e6eb1f2",
   "metadata": {},
   "source": [
    "# Visualization"
   ]
  },
  {
   "cell_type": "code",
   "execution_count": 41,
   "id": "bf9ce089",
   "metadata": {},
   "outputs": [
    {
     "data": {
      "image/png": "[encoded data removed]",
      "text/plain": [
       "<Figure size 1080x360 with 1 Axes>"
      ]
     },
     "metadata": {
      "needs_background": "light"
     },
     "output_type": "display_data"
    }
   ],
   "source": [
    "# Lets find some hot zones using visualization. As we have already installed required libraies like-Matplotlib, Seaborn.\n",
    "\n",
    "plt.figure(figsize=(15,5));\n",
    "sns.countplot(x=terror_df.Weapon_type);"
   ]
  },
  {
   "cell_type": "markdown",
   "id": "6b4be8ee",
   "metadata": {},
   "source": [
    "Observations: \n",
    "    \n",
    "* As per the above plot we can see most used weapon type is Explosives."
   ]
  },
  {
   "cell_type": "code",
   "execution_count": 42,
   "id": "05e939fc",
   "metadata": {},
   "outputs": [
    {
     "data": {
      "image/png": "[encoded data removed]",
      "text/plain": [
       "<Figure size 1080x360 with 1 Axes>"
      ]
     },
     "metadata": {
      "needs_background": "light"
     },
     "output_type": "display_data"
    }
   ],
   "source": [
    "plt.figure(figsize=(15,5))\n",
    "plt.xticks(rotation = 90)\n",
    "plt.title('Attacks by Year')\n",
    "sns.countplot(x = terror_df.Year);"
   ]
  },
  {
   "cell_type": "markdown",
   "id": "3b2bcd35",
   "metadata": {},
   "source": [
    "Observations:\n",
    "\n",
    "* As per the above plot we can see after 2007 no of attacks incresed and most attacks in 2012, 2013, 2014, 2015, 2016 and 2017 above 10k plus attacks world wide.\n",
    "\n",
    "* From 2014 no of attacks descresing"
   ]
  },
  {
   "cell_type": "code",
   "execution_count": 43,
   "id": "ef5fafa1",
   "metadata": {},
   "outputs": [
    {
     "data": {
      "image/png": "[encoded data removed]",
      "text/plain": [
       "<Figure size 1440x360 with 1 Axes>"
      ]
     },
     "metadata": {
      "needs_background": "light"
     },
     "output_type": "display_data"
    }
   ],
   "source": [
    "plt.figure(figsize=(20,5))\n",
    "plt.title(\"Attacks by Months\")\n",
    "sns.countplot(x=terror_df.Month);"
   ]
  },
  {
   "cell_type": "markdown",
   "id": "91ea3558",
   "metadata": {},
   "source": [
    "Observations:\n",
    "    \n",
    "* In the above plot we can see month wise attacks world.\n",
    "* Most attacks in May but if we check almost evrymonth has same contribution of attacks."
   ]
  },
  {
   "cell_type": "code",
   "execution_count": 44,
   "id": "c03ec7f9",
   "metadata": {},
   "outputs": [
    {
     "data": {
      "text/plain": [
       "<AxesSubplot:title={'center':'Daily Attacks'}, xlabel='day', ylabel='count'>"
      ]
     },
     "execution_count": 44,
     "metadata": {},
     "output_type": "execute_result"
    },
    {
     "data": {
      "image/png": "[encoded data removed]",
      "text/plain": [
       "<Figure size 1440x360 with 1 Axes>"
      ]
     },
     "metadata": {
      "needs_background": "light"
     },
     "output_type": "display_data"
    }
   ],
   "source": [
    "plt.figure(figsize=(20,5))\n",
    "plt.title(\"Daily Attacks\")\n",
    "sns.countplot(terror_df.day)"
   ]
  },
  {
   "cell_type": "markdown",
   "id": "eb4eb443",
   "metadata": {},
   "source": [
    "Observations:\n",
    "* We can check here also, Every day has the same around same no of attacks world wide"
   ]
  },
  {
   "cell_type": "code",
   "execution_count": 45,
   "id": "6ec27585",
   "metadata": {},
   "outputs": [
    {
     "data": {
      "text/plain": [
       "<AxesSubplot:title={'center':'Attacks by Country'}, xlabel='Country_name', ylabel='count'>"
      ]
     },
     "execution_count": 45,
     "metadata": {},
     "output_type": "execute_result"
    },
    {
     "data": {
      "image/png": "[encoded data removed]",
      "text/plain": [
       "<Figure size 1440x360 with 1 Axes>"
      ]
     },
     "metadata": {
      "needs_background": "light"
     },
     "output_type": "display_data"
    }
   ],
   "source": [
    "# plt.figure(figsize=(20,5))\n",
    "# plt.rcParams.update({'font.size':8});\n",
    "# plt.xticks(rotation = 90)\n",
    "# plt.title(\"Country Wise Attacks\")\n",
    "# sns.countplot(terror_df.Country_name)\n",
    "\n",
    "plt.figure(figsize=(20,5));\n",
    "plt.rcParams.update({'font.size':14});\n",
    "plt.xticks(rotation = 90)\n",
    "plt.title('Attacks by Country')\n",
    "sns.countplot(x=terror_df.Country_name.tail(50))\n"
   ]
  },
  {
   "cell_type": "markdown",
   "id": "898537e1",
   "metadata": {},
   "source": [
    "Observations:\n",
    "\n",
    "* This plots shows us Iraq has maximum count of attacks and then Philippines, Afganistan, India and Nigeria\n",
    "\n",
    "* Govt Should keep eyes on these countries security and take care of citizens safety."
   ]
  },
  {
   "cell_type": "code",
   "execution_count": 46,
   "id": "715a9500",
   "metadata": {},
   "outputs": [
    {
     "data": {
      "image/png": "[encoded data removed]",
      "text/plain": [
       "<Figure size 1800x720 with 1 Axes>"
      ]
     },
     "metadata": {
      "needs_background": "light"
     },
     "output_type": "display_data"
    }
   ],
   "source": [
    "plt.figure(figsize=(25,10))\n",
    "plt.rcParams.update({'font.size':15})\n",
    "plt.xticks(rotation = 90)\n",
    "plt.title(\"Attacks By Region\")\n",
    "sns.countplot(x=terror_df.Region);"
   ]
  },
  {
   "cell_type": "markdown",
   "id": "d7679487",
   "metadata": {},
   "source": [
    "Observations:\n",
    "    \n",
    "* The Middle East & North Africa is on top of all regions and then south Asia is on second place"
   ]
  },
  {
   "cell_type": "code",
   "execution_count": 47,
   "id": "a08a5828",
   "metadata": {},
   "outputs": [
    {
     "data": {
      "image/png": "[encoded data removed]",
      "text/plain": [
       "<Figure size 1800x720 with 1 Axes>"
      ]
     },
     "metadata": {
      "needs_background": "light"
     },
     "output_type": "display_data"
    }
   ],
   "source": [
    "plt.figure(figsize=(25,10))\n",
    "plt.rcParams.update({'font.size':15})\n",
    "plt.xticks(rotation = 90)\n",
    "plt.title(\"Based on target Type\")\n",
    "sns.countplot(x=terror_df.Target_type);"
   ]
  },
  {
   "cell_type": "markdown",
   "id": "575ddd9d",
   "metadata": {},
   "source": [
    "Observations:\n",
    "\n",
    "* The most of the targeted thing is Private Citizens & Property\n",
    "* And, then Military, Police, Govt(general) and Businesses.\n",
    "    "
   ]
  },
  {
   "cell_type": "code",
   "execution_count": 48,
   "id": "e5b6e845",
   "metadata": {},
   "outputs": [
    {
     "data": {
      "image/png": "[encoded data removed]",
      "text/plain": [
       "<Figure size 1800x720 with 1 Axes>"
      ]
     },
     "metadata": {
      "needs_background": "light"
     },
     "output_type": "display_data"
    }
   ],
   "source": [
    "plt.figure(figsize=(25,10))\n",
    "plt.rcParams.update({'font.size':15})\n",
    "plt.xticks(rotation = 45)\n",
    "plt.title(\"Based on Attack Type\")\n",
    "sns.countplot(x=terror_df.Attack_type);"
   ]
  },
  {
   "cell_type": "markdown",
   "id": "f7ef7c87",
   "metadata": {},
   "source": [
    "Observations:\n",
    "    \n",
    "* Bombing and Explosion used in Most attacks by terrorist_groups"
   ]
  },
  {
   "cell_type": "markdown",
   "id": "956feb4e",
   "metadata": {},
   "source": [
    "# Results of Analysis\n",
    "\n",
    "* Most of the attacks were attacked through explosives and then through firearms.\n",
    "\n",
    "* Attacks were more during 2014 and then in 2015. When compared to attacks from 1970 onwards, the last 6 years scored a maximum. \n",
    "\n",
    "* But from 2014 onwards count started decreasing.\n",
    "\n",
    "* Almost Every day has the same contribution but attacks were low during 31st and high during 15th and 1st.\n",
    "\n",
    "* Iraq dominates all the countries and it has the highest number of attacks and then Pakistan, Afghanistan, and India follow it.\n",
    "\n",
    "* The Middle East& North Africa leads 1st among all the regions and then South Asia takes 2nd place.\n",
    "\n",
    "* For most of the attacks, the target is Private Citizens& property and the next Military leads.\n",
    "\n",
    "* Most of the attacks were through either Bombing or Explosion."
   ]
  },
  {
   "cell_type": "markdown",
   "id": "0c599108",
   "metadata": {},
   "source": [
    "# Measures to be Taken to Reduce Terrorism.\n",
    "\n",
    "* By reducing access to dangerous weapons\n",
    "* Government should provide more security over countries\n",
    "* Security should be strengthened across borders\n",
    "* Government should take measures on increased immigration\n",
    "  and many more…"
   ]
  },
  {
   "cell_type": "markdown",
   "id": "284f48b7",
   "metadata": {},
   "source": [
    "# Source:\n",
    "\n",
    "* https://www.geeksforgeeks.org/\n",
    "\n",
    "* https://stackoverflow.com/\n",
    "\n",
    "* https://seaborn.pydata.org/\n",
    "\n",
    "* https://pandas.pydata.org/\n"
   ]
  },
  {
   "cell_type": "markdown",
   "id": "a9bd06a6",
   "metadata": {},
   "source": [
    "# !! Thank You !! #"
   ]
  }
 ],
 "metadata": {
  "kernelspec": {
   "display_name": "Python 3 (ipykernel)",
   "language": "python",
   "name": "python3"
  },
  "language_info": {
   "codemirror_mode": {
    "name": "ipython",
    "version": 3
   },
   "file_extension": ".py",
   "mimetype": "text/x-python",
   "name": "python",
   "nbconvert_exporter": "python",
   "pygments_lexer": "ipython3",
   "version": "3.9.12"
  }
 },
 "nbformat": 4,
 "nbformat_minor": 5
}
